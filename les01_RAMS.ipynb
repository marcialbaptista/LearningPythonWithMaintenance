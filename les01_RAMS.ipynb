{
 "cells": [
  {
   "cell_type": "markdown",
   "source": [
    "# AE4465 (MM&A) - Reliability, Availability, Maintenance and Supportability (RAMS) and its Key Performance Indicators (KPIs)\n",
    "\n",
    "Assume you are working for an airline. They provide you with data about their maintenance processes for different equipment (data/RAMS_data.csv). The first task the airline ask you to do is the KPIs of RAMS. KPIs (Key Performance Indicators) is a tool used in maintenance (and business in general) to assess the effectiveness and efficiency of various operations and strategies. KPIs are quantitive measures.\n",
    "\n",
    "KPIs are designed to be measurable, time-bound, specific, relevant, and attainable. Being measurable, they provide quantifiable data. Their time-bound nature means that they are set with specific deadlines. The specificity of KPIs ensures that they target particular aspects of performance. Their relevance is critical, as they must align with the organization's broader goals and objectives. Lastly, KPIs are set to be attainable, striking a balance between challenging and realistic. This combination of attributes ensures that KPIs are not just metrics, but strategic tools that guide and inform decision-making towards organizational success.\n",
    "\n",
    "The implementation of KPIs in maintenance are used to assess how maintenance can help to correct deficiencies and increase the performance of an airline.\n",
    "\n",
    "&nbsp;\n",
    "<center><img top-margin=\"10px\" alt=\"Key performance indicators (KPIs)\" src=\"imgs/kpis.png\" width=\"500\"/></center>\n",
    "\n",
    "Please check the following paper for more information:\n",
    "Galar, Diego, L. Berges, and Javier Royo. \"RAMS parameters as KPI rotating machinery maintenance.\" International Congress on Condition Monitoring and Diagnostic Engineering Management: 28/06/2010-02/07/2010. Sunrise Publishing, 2010."
   ],
   "metadata": {
    "collapsed": false
   }
  },
  {
   "cell_type": "markdown",
   "source": [
    "## Data\n",
    "\n",
    "For this exercise, we have the data of an airline in file data\\RAMS_data.csv. The file consists of repair info of an equipment A, one per line. For each repair of an equipment, we have the following info:\n",
    "\n",
    "- Equipment ID\n",
    "- Date repair\n",
    "- Time repair\n",
    "- End date repair\n",
    "- End time repair\n",
    "- Support time (minutes)\n",
    "- Total maintenance time (minutes)\n",
    "- Cost\n",
    "- New parts used\n",
    "\n",
    "We will use Python code to display the first five rows of the dataframe.\n"
   ],
   "metadata": {
    "collapsed": false
   }
  },
  {
   "cell_type": "code",
   "execution_count": 2,
   "outputs": [],
   "source": [
    "#import the necessary libraries\n",
    "import numpy as np\n",
    "import pandas as pd\n",
    "import matplotlib.pyplot as plt"
   ],
   "metadata": {
    "collapsed": false
   }
  },
  {
   "cell_type": "code",
   "execution_count": 3,
   "outputs": [
    {
     "data": {
      "text/plain": "  Equipment ID Date repair Time repair End date repair End time repair  \\\n0            A    1/4/2021     0:00:00        1/4/2021         7:20:00   \n1            A   1/30/2021     1:14:00       1/30/2021         8:09:00   \n2            A   2/25/2021     1:55:00       2/25/2021         7:43:00   \n3            A    3/9/2021     2:35:00        3/9/2021         5:25:00   \n4            A    4/7/2021     3:49:00        4/7/2021         7:20:00   \n\n   Support time (minutes)  Total maintenance time (minutes)      Cost  \\\n0                      65                               440  58701.14   \n1                     120                               415  46799.76   \n2                     167                               348  29263.73   \n3                      10                               170  26766.93   \n4                      75                               211  22742.36   \n\n   New parts used  \n0               7  \n1               0  \n2              24  \n3              24  \n4               1  ",
      "text/html": "<div>\n<style scoped>\n    .dataframe tbody tr th:only-of-type {\n        vertical-align: middle;\n    }\n\n    .dataframe tbody tr th {\n        vertical-align: top;\n    }\n\n    .dataframe thead th {\n        text-align: right;\n    }\n</style>\n<table border=\"1\" class=\"dataframe\">\n  <thead>\n    <tr style=\"text-align: right;\">\n      <th></th>\n      <th>Equipment ID</th>\n      <th>Date repair</th>\n      <th>Time repair</th>\n      <th>End date repair</th>\n      <th>End time repair</th>\n      <th>Support time (minutes)</th>\n      <th>Total maintenance time (minutes)</th>\n      <th>Cost</th>\n      <th>New parts used</th>\n    </tr>\n  </thead>\n  <tbody>\n    <tr>\n      <th>0</th>\n      <td>A</td>\n      <td>1/4/2021</td>\n      <td>0:00:00</td>\n      <td>1/4/2021</td>\n      <td>7:20:00</td>\n      <td>65</td>\n      <td>440</td>\n      <td>58701.14</td>\n      <td>7</td>\n    </tr>\n    <tr>\n      <th>1</th>\n      <td>A</td>\n      <td>1/30/2021</td>\n      <td>1:14:00</td>\n      <td>1/30/2021</td>\n      <td>8:09:00</td>\n      <td>120</td>\n      <td>415</td>\n      <td>46799.76</td>\n      <td>0</td>\n    </tr>\n    <tr>\n      <th>2</th>\n      <td>A</td>\n      <td>2/25/2021</td>\n      <td>1:55:00</td>\n      <td>2/25/2021</td>\n      <td>7:43:00</td>\n      <td>167</td>\n      <td>348</td>\n      <td>29263.73</td>\n      <td>24</td>\n    </tr>\n    <tr>\n      <th>3</th>\n      <td>A</td>\n      <td>3/9/2021</td>\n      <td>2:35:00</td>\n      <td>3/9/2021</td>\n      <td>5:25:00</td>\n      <td>10</td>\n      <td>170</td>\n      <td>26766.93</td>\n      <td>24</td>\n    </tr>\n    <tr>\n      <th>4</th>\n      <td>A</td>\n      <td>4/7/2021</td>\n      <td>3:49:00</td>\n      <td>4/7/2021</td>\n      <td>7:20:00</td>\n      <td>75</td>\n      <td>211</td>\n      <td>22742.36</td>\n      <td>1</td>\n    </tr>\n  </tbody>\n</table>\n</div>"
     },
     "metadata": {},
     "output_type": "display_data"
    }
   ],
   "source": [
    "# Import the data in csv file\n",
    "dt = pd.read_csv('data/RAMS_data.csv')\n",
    "# print the 5 first rows of the dataframe\n",
    "display(dt.head())"
   ],
   "metadata": {
    "collapsed": false
   }
  },
  {
   "cell_type": "markdown",
   "source": [
    "## Reliability\n",
    "\n",
    "### Mean time between failures\n",
    "\n",
    "Mean time between failures (MTBF) is the average amount of time between system failures. This metric directly affects uptime. A low MTBF means the system(s) are failing often. The higher the time between failure, the more reliable the system.\n",
    "\n",
    "$${\\text{MTBF}}={\\frac {\\sum {({\\text{start of downtime}}-{\\text{start of uptime}})}}{\\text{number of failures}}}$$\n",
    "\n",
    "Consider the following example. Light bulb A lasts 20 hours. Light bulb B lasts 18, bulb C lasts 21, and bulb D lasts 21 hours. That's a total of 80 bulb hours. Divided by four, the MTTF is 20 hours.\n",
    "\n",
    " &nbsp;\n",
    "<center><img top-margin=\"10px\" alt=\"Light bulb MTBF\" src=\"imgs//bulbs.jpeg\" width=\"300\"/></center>\n",
    "\n",
    "In this exercise, we ask you to calculate the MTBF (in days) of equipment A based on the information in file data/RAMS_data.csv.\n"
   ],
   "metadata": {
    "collapsed": false
   }
  },
  {
   "cell_type": "code",
   "execution_count": 5,
   "outputs": [
    {
     "name": "stdout",
     "output_type": "stream",
     "text": [
      "The MTBF of Equipment A is  25.88 days\n"
     ]
    }
   ],
   "source": [
    "total_dowtime = np.sum(dt['Total maintenance time (minutes)']) # calculate the total time spent in maintenance (downtime in this case)\n",
    "total_time = 60 * 24 * 365 # total number of minutes in a year\n",
    "total_uptime = total_time - total_dowtime\n",
    "number_failures = len(dt['Total maintenance time (minutes)']) # number of failures (rows in the csv file)\n",
    "MTBF = total_uptime / number_failures\n",
    "print('The MTBF of Equipment A is ', round(MTBF/(60*24),2), 'days')"
   ],
   "metadata": {
    "collapsed": false
   }
  },
  {
   "cell_type": "markdown",
   "source": [
    "## Maintainability\n",
    "\n",
    "### Mean downtime and Mean time to repair and Mean repair costs\n",
    "\n",
    "Mean downtime is calculated by adding up all the downtime in a specific period and dividing it by the number of failures. Is a high-level metric that helps you identify if you have a problem. However, if you want to diagnose where the problem lies (is it an issue with your warning system? Is the team taking too long on fixes? Does it take too long for someone to respond to a fix request?), you’ll need more metrics. This is because there’s more than one thing happening between failure and recovery.\n",
    "\n",
    "Mean downtime (MDT) can be defined as\n",
    "\n",
    "$$\\text{MDT}={\\frac {\\sum {(\\text{start of uptime}-\\text{start of downtime})}}{\\text{number of failures}}$$\n",
    "\n",
    "MTTR (mean time to repair) is the average time it takes to resolve a failure after the support (logistics/equipment) is settled. This includes the time repairing the issue after the support has arrived.\n",
    "\n",
    "$${\\text{MTTR}={\\frac {\\sum {({\\text{start of uptime}}-{\\text{end of supportime}})}}{\\text{number of failures}}}$$\n",
    "\n",
    "MRC (mean repair cost) is the average cost it takes to fix a failure after. It is also an important maintainabiliy indicator.\n",
    "\n",
    "$${\\text{MRC}={\\frac {\\sum {({\\text{repair cost}})}}{\\text{number of failures}}}$$\n",
    "\n",
    "Let us use our data to calculate these three metrics."
   ],
   "metadata": {
    "collapsed": false
   }
  },
  {
   "cell_type": "code",
   "execution_count": 6,
   "outputs": [
    {
     "name": "stdout",
     "output_type": "stream",
     "text": [
      "The mean downtime is 278.0 minutes\n"
     ]
    }
   ],
   "source": [
    "total_downtime = np.sum(dt['Total maintenance time (minutes)'])\n",
    "number_failures = len(dt)\n",
    "MDT = total_downtime / number_failures\n",
    "print('The mean downtime is', round(MDT, 2), 'minutes')"
   ],
   "metadata": {
    "collapsed": false
   }
  },
  {
   "cell_type": "code",
   "execution_count": 7,
   "outputs": [
    {
     "name": "stdout",
     "output_type": "stream",
     "text": [
      "The mean time to repair is 165.43 minutes\n"
     ]
    }
   ],
   "source": [
    "total_repairtime = np.sum(dt['Total maintenance time (minutes)']  - dt['Support time (minutes)'])\n",
    "number_failures = len(dt)\n",
    "MTTR = total_repairtime / number_failures\n",
    "print('The mean time to repair is', round(MTTR, 2), 'minutes')"
   ],
   "metadata": {
    "collapsed": false
   }
  },
  {
   "cell_type": "code",
   "execution_count": 8,
   "outputs": [
    {
     "name": "stdout",
     "output_type": "stream",
     "text": [
      "The mean repair cost is 27785.85 euros per repair\n"
     ]
    }
   ],
   "source": [
    "total_repaircost = np.sum(dt['Cost'])\n",
    "number_failures = len(dt)\n",
    "MRC = total_repaircost / number_failures\n",
    "print('The mean repair cost is', round(MRC, 2), 'euros per repair')"
   ],
   "metadata": {
    "collapsed": false
   }
  },
  {
   "cell_type": "markdown",
   "source": [
    "## Supportability\n",
    "\n",
    "### Mean time to support\n",
    "\n",
    "Mean time to support is calculated by adding up all the support times in a specific period and dividing it by the number of failures. Is a high-level metric that helps you identify if you have a problem in your logistics and support function.\n",
    "\n",
    "Mean time to support (MTTS) can be defined as\n",
    "\n",
    "$${\\text{MTTS}={\\frac {\\sum {({\\text{support time}})}}{\\text{number of failures}}}$$\n",
    "\n",
    "Another important metric is the ratio of support time over downtime:\n",
    "\n",
    "$${\\text{ratio}_{support}={\\frac {{({\\text{total support time}})}}{\\text{total downtime}}}$$\n",
    "\n",
    "You can also calculate other supportability metrics such as the maximum number of parts required for a repair:\n",
    "\n",
    "$$\\text{MTTS}=\\max{(\\text{number support parts})}$$\n",
    "\n",
    "Let us calculate these metrics based on the information we already have.\n",
    "\n"
   ],
   "metadata": {
    "collapsed": false
   }
  },
  {
   "cell_type": "code",
   "execution_count": 9,
   "outputs": [
    {
     "name": "stdout",
     "output_type": "stream",
     "text": [
      "The mean time to support is 112.57 minutes\n"
     ]
    }
   ],
   "source": [
    "total_supporttime = np.sum(dt['Support time (minutes)'])\n",
    "number_failures = len(dt)\n",
    "MTTS = total_supporttime / number_failures\n",
    "print('The mean time to support is', round(MTTS, 2), 'minutes')"
   ],
   "metadata": {
    "collapsed": false
   }
  },
  {
   "cell_type": "code",
   "execution_count": 10,
   "outputs": [
    {
     "name": "stdout",
     "output_type": "stream",
     "text": [
      "The percentage of repair time doing support is 40.49 %\n"
     ]
    }
   ],
   "source": [
    "ratio_support_time = round(MTTS / MDT * 100, 2)\n",
    "print('The percentage of repair time doing support is', ratio_support_time, '%')"
   ],
   "metadata": {
    "collapsed": false
   }
  },
  {
   "cell_type": "code",
   "execution_count": 11,
   "outputs": [
    {
     "name": "stdout",
     "output_type": "stream",
     "text": [
      "The maximum number of parts required per repair is 24\n"
     ]
    }
   ],
   "source": [
    "parts = dt['New parts used']\n",
    "max_part_required = np.max(parts)\n",
    "print('The maximum number of parts required per repair is', max_part_required)"
   ],
   "metadata": {
    "collapsed": false
   }
  },
  {
   "cell_type": "code",
   "execution_count": null,
   "outputs": [],
   "source": [
    "## Availability\n",
    "\n",
    "Service availability measures the level of operation of the system. It is the uptime over the total time (uptime + downtime).\n",
    "\n",
    "$$ A={\\frac {\\mathrm {uptime}}{\\mathrm {uptime}+\\mathrm {downtime}}}={\\frac {\\mathrm {uptime}}{C}}$$\n",
    "\n",
    "Another equation for availability (A) is a ratio of the Mean Time between Failure (MTBF) and Mean down time (MDT), or\n",
    "\n",
    "$$ A={\\frac {MTBF}{MTBF+MDT}}$$"
   ],
   "metadata": {
    "collapsed": false
   }
  },
  {
   "cell_type": "code",
   "execution_count": 42,
   "outputs": [
    {
     "name": "stdout",
     "output_type": "stream",
     "text": [
      "Availability of 0.9925951293759513\n",
      "Availability of 0.9925951293759513\n"
     ]
    }
   ],
   "source": [
    "A = MTBF / (MTBF + MDT)\n",
    "print('Availability of', A)\n",
    "A = total_uptime / (total_uptime + total_dowtime)\n",
    "print('Availability of', A)"
   ],
   "metadata": {
    "collapsed": false
   }
  }
 ],
 "metadata": {
  "kernelspec": {
   "display_name": "Python 3",
   "language": "python",
   "name": "python3"
  },
  "language_info": {
   "codemirror_mode": {
    "name": "ipython",
    "version": 2
   },
   "file_extension": ".py",
   "mimetype": "text/x-python",
   "name": "python",
   "nbconvert_exporter": "python",
   "pygments_lexer": "ipython2",
   "version": "2.7.6"
  }
 },
 "nbformat": 4,
 "nbformat_minor": 0
}
